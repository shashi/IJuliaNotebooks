{
 "metadata": {
  "language": "Julia",
  "name": "",
  "signature": "sha256:6b59809b08b9f5a9ac8fa96173b7eafa8b5b56612070234fba11303bc62827c5"
 },
 "nbformat": 3,
 "nbformat_minor": 0,
 "worksheets": [
  {
   "cells": [
    {
     "cell_type": "heading",
     "level": 1,
     "metadata": {},
     "source": [
      "Talks along with their IJulia Notebooks"
     ]
    },
    {
     "cell_type": "code",
     "collapsed": false,
     "input": [
      "using Interact\n",
      "\n",
      "# function to embed video\n",
      "showVideo(v_id) = display(MIME(\"text/html\"),\n",
      "    \"\"\"<iframe width=\"560\" height=\"315\" src=\"//www.youtube.com/embed/$v_id\" frameborder=\"0\" allowfullscreen></iframe>\"\"\")"
     ],
     "language": "python",
     "metadata": {},
     "outputs": [
      {
       "metadata": {},
       "output_type": "pyout",
       "prompt_number": 7,
       "text": [
        "showVideo (generic function with 1 method)"
       ]
      }
     ],
     "prompt_number": 7
    },
    {
     "cell_type": "markdown",
     "metadata": {},
     "source": [
      "## Introduction to Julia - SciPy 2014 - David P. Sanders\n",
      "### [Notebook](Introduction%20to%20Julia%20-%20SciPy%202014%20-%20David%20P.%20Sanders/Index.ipynb), Videos: ([Part 1](https://www.youtube.com/watch?v=vWkgEddb4-A), [Part 2](https://www.youtube.com/watch?v=I3JH5Bg46yU))"
     ]
    },
    {
     "cell_type": "code",
     "collapsed": false,
     "input": [
      "showVideo(\"vWkgEddb4-A\") # Part 1"
     ],
     "language": "python",
     "metadata": {},
     "outputs": [
      {
       "html": [
        "<iframe width=\"560\" height=\"315\" src=\"//www.youtube.com/embed/vWkgEddb4-A\" frameborder=\"0\" allowfullscreen></iframe>"
       ],
       "metadata": {},
       "output_type": "display_data"
      }
     ],
     "prompt_number": 8
    },
    {
     "cell_type": "code",
     "collapsed": false,
     "input": [
      "showVideo(\"I3JH5Bg46yU\") # Part 2"
     ],
     "language": "python",
     "metadata": {},
     "outputs": [
      {
       "html": [
        "<iframe width=\"560\" height=\"315\" src=\"//www.youtube.com/embed/I3JH5Bg46yU\" frameborder=\"0\" allowfullscreen></iframe>"
       ],
       "metadata": {},
       "output_type": "display_data"
      }
     ],
     "prompt_number": 9
    },
    {
     "cell_type": "markdown",
     "metadata": {},
     "source": [
      "## Crossing Language Barriers with Julia, SciPy and IPython - EuroSciPy 2014 - Steven G. Johnson\n",
      "### [Notebook](Crossing%20Language%20Barriers%20with%20Julia%2C%20SciPy%2CIPython%20-%20EuroSciPy14%20-%20Steven%20G%20Johnson/Basics.ipynb), [Video](https://www.youtube.com/watch?v=jhlVHoeB05A)"
     ]
    },
    {
     "cell_type": "code",
     "collapsed": false,
     "input": [
      "showVideo(\"jhlVHoeB05A\")"
     ],
     "language": "python",
     "metadata": {},
     "outputs": [
      {
       "html": [
        "<iframe width=\"560\" height=\"315\" src=\"//www.youtube.com/embed/jhlVHoeB05A\" frameborder=\"0\" allowfullscreen></iframe>"
       ],
       "metadata": {},
       "output_type": "display_data"
      }
     ],
     "prompt_number": 10
    }
   ],
   "metadata": {}
  }
 ]
}