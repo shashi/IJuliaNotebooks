{
 "metadata": {
  "language": "Julia",
  "name": "",
  "signature": "sha256:59f3c01209b38cb1596118c7e6d90cc43776230b25ca1bd120d3b7c5cf75d720"
 },
 "nbformat": 3,
 "nbformat_minor": 0,
 "worksheets": [
  {
   "cells": [
    {
     "cell_type": "code",
     "collapsed": false,
     "input": [
      "[]"
     ],
     "language": "python",
     "metadata": {},
     "outputs": []
    }
   ],
   "metadata": {}
  }
 ]
}